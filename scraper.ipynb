{
 "cells": [
  {
   "cell_type": "markdown",
   "metadata": {},
   "source": [
    "### import bibliotek\n"
   ]
  },
  {
   "cell_type": "code",
   "execution_count": 25,
   "metadata": {},
   "outputs": [],
   "source": [
    "import requests\n",
    "from bs4 import BeautifulSoup"
   ]
  },
  {
   "cell_type": "markdown",
   "metadata": {},
   "source": [
    "Wysłanie żądania dostępu do strony internetowej z opiniami o produkcie"
   ]
  },
  {
   "cell_type": "code",
   "execution_count": 26,
   "metadata": {},
   "outputs": [
    {
     "data": {
      "text/plain": [
       "200"
      ]
     },
     "execution_count": 26,
     "metadata": {},
     "output_type": "execute_result"
    }
   ],
   "source": [
    "url = \"https://www.ceneo.pl/84514582#tab=reviews\"\n",
    "response = requests.get(url)\n",
    "response.status_code"
   ]
  },
  {
   "cell_type": "markdown",
   "metadata": {},
   "source": [
    "Jeżeli operacja zakończy się powodzeniem, wyodrębnienie w kodu strony opinii o produkcie\n"
   ]
  },
  {
   "cell_type": "code",
   "execution_count": 27,
   "metadata": {},
   "outputs": [],
   "source": [
    "if response.status_code == 200:\n",
    "    page_dom = BeautifulSoup(response.text, \"html.parser\")\n",
    "    opinions= page_dom.select(\"div.js_product-review:not(.user-post--highlight)\")\n",
    "  "
   ]
  },
  {
   "cell_type": "markdown",
   "metadata": {},
   "source": [
    "Dla każdej opinii wyodrębnnienie z kodu HTML poszczególnych składowych i przypisanie ich do elementów złożonej struktury danych"
   ]
  },
  {
   "cell_type": "code",
   "execution_count": 35,
   "metadata": {},
   "outputs": [],
   "source": [
    "for opinion in opinions:\n",
    "    try: \n",
    "        single_opinion = {\n",
    "            \"author\":opinion.select_one(\"span.user-post__author-name\").text.strip(),\n",
    "            \"recommandation\":opinion.select_one(\"span.user-post__author-recomendation > em\").text.strip(),\n",
    "            \"stars\":opinion.select_one(\".span.user-post__score-count\").text.strip(),\n",
    "            \"content\":opinion.select_one(\"div.user-post__text\").text.strip(),\n",
    "            \"pros\":opinion.select_one(\"div.review-feature__item-positive\"),\n",
    "            \"cons\":opinion.select_one(\"div.review-feature__item-negative\"),\n",
    "            \"useful\":opinion.select_one(\"button.vote-yes > span\").text.strip(),\n",
    "            \"useless\":opinion.select_one(\"button.vote-no > span\").text.strip(),\n",
    "            \"post_date\":opinion.select_one(\"span.user-post__published > time:nth-child(1)\")[\"datetime\"].strip(),\n",
    "            \"purchase_date\":opinion.select_one(\"span.user-post__published > time:nth-child(2)\")[\"datetime\"].strip()\n",
    "\n",
    "        }\n",
    "        print(single_opinion)\n",
    "    except (AttributeError, TypeError):\n",
    "        pass\n"
   ]
  },
  {
   "cell_type": "code",
   "execution_count": 31,
   "metadata": {},
   "outputs": [
    {
     "name": "stdout",
     "output_type": "stream",
     "text": [
      "<class 'str'>\n"
     ]
    }
   ],
   "source": [
    "print(type(single_opinion[\"author\"]))"
   ]
  },
  {
   "cell_type": "markdown",
   "metadata": {},
   "source": []
  }
 ],
 "metadata": {
  "kernelspec": {
   "display_name": ".venv",
   "language": "python",
   "name": "python3"
  },
  "language_info": {
   "codemirror_mode": {
    "name": "ipython",
    "version": 3
   },
   "file_extension": ".py",
   "mimetype": "text/x-python",
   "name": "python",
   "nbconvert_exporter": "python",
   "pygments_lexer": "ipython3",
   "version": "3.11.9"
  }
 },
 "nbformat": 4,
 "nbformat_minor": 2
}
